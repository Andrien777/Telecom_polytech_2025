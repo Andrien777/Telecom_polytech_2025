{
 "cells": [
  {
   "cell_type": "markdown",
   "id": "98e7b4c1-9cb4-450d-982f-b7e356646595",
   "metadata": {},
   "source": [
    "# Свойства преобразования Фурье\n",
    "## Линейность\n",
    "Преобразование Фурье - линейный оператор. Преобразование Фурье линейной комбинации функций есть линейная комбинация преобразований Фурье.\n",
    "Например:"
   ]
  },
  {
   "cell_type": "code",
   "execution_count": 6,
   "id": "9d4f7d28-df9d-4ced-bad1-fdffba14f813",
   "metadata": {},
   "outputs": [
    {
     "data": {
      "text/plain": [
       "1.6458793291869878e-13"
      ]
     },
     "execution_count": 6,
     "metadata": {},
     "output_type": "execute_result"
    }
   ],
   "source": [
    "from numpy import fft\n",
    "from numpy import linspace, sinc, abs\n",
    "import scipy\n",
    "def f(x):\n",
    "    return sinc(x)\n",
    "def g(x):\n",
    "    return scipy.signal.square(x)\n",
    "\n",
    "xx = linspace(0, 1, 1000)\n",
    "fft_1 = fft.rfft(2 * f(xx) + 3 * g(xx))\n",
    "fft_2 = 2 * fft.rfft(f(xx)) + 3 * fft.rfft(g(xx))\n",
    "max(abs(fft_1 - fft_2))"
   ]
  },
  {
   "cell_type": "markdown",
   "id": "7e3bdb3b-0c9b-427d-8ea9-4aa2a6815c1a",
   "metadata": {},
   "source": [
    "## Теорема о свертке\n",
    "F(f * g) = F(f)F(g)\n",
    "Преобразование Фурье от свертки функций есть произведение преобразований Фурье собственно функций.\n",
    "Обратное верно: преобразование Фурье от произведения функций есть сверта преобразований функций по отдельности, деленному на нормировочную константу.\n",
    "\n",
    "## Равенство Парсеваля\n",
    "Считая, что энергия функции равна квадрату ее нормы, т.е. интегралу по всей области определения от квадрата ее значения:\n",
    "    Энергия сигнала равна энергии его Фурье-образа, деленной на нормировочный коэффициент.\n",
    "    Например:"
   ]
  },
  {
   "cell_type": "code",
   "execution_count": 15,
   "id": "dd4fca56-0586-42ed-9660-d5f4e81ee96f",
   "metadata": {},
   "outputs": [
    {
     "name": "stdout",
     "output_type": "stream",
     "text": [
      "451.4602551233669\n",
      "451.46025512336695\n"
     ]
    }
   ],
   "source": [
    "print((f(xx) ** 2).sum())\n",
    "fft_1 = fft.fft(f(xx))\n",
    "print((abs(fft_1) ** 2).sum() / fft_1.size)"
   ]
  },
  {
   "cell_type": "markdown",
   "id": "a5c5910b-f1f9-41f1-a6ac-4f8d3a82e420",
   "metadata": {},
   "source": [
    "## Реакция на сдвиги по времени и частоте\n",
    "Сдвиг функции на t умножает ее образ на e^(2 * pi * j * w * t):\n",
    "F(f(x + t)) = e^(2 * pi * j * w * t) * F(f), где w - аргумент образа, j - мнимая единица.\n",
    "Наоборот, сдвиг на w0 по частоте умножает функцию на e^(2 * pi * j * w0 * x)\n",
    "F(e^(2 * pi * j * w0 * x)f(x)) = F(f)(w + w0)\n",
    "\n",
    "## Реакция на растяжение по времени\n",
    "В соответствии со свойствами интеграла, F(f(ax)) = |a|^(-1) F(f)(w/a)\n",
    "\n",
    "## Дифференцирование и интегрирование фунции\n",
    "Преобразование производной функции дает перед образом множитель jw. Преобразование производной n-го порядка дает множитель (jw)^n.\n",
    "Соответственно преобразование первообразной функции (считая превообразную как интеграл от -inf с переменым верхним пределом) дает множитель (jw)^(-1).\n",
    "\n"
   ]
  }
 ],
 "metadata": {
  "kernelspec": {
   "display_name": "Python 3 (ipykernel)",
   "language": "python",
   "name": "python3"
  },
  "language_info": {
   "codemirror_mode": {
    "name": "ipython",
    "version": 3
   },
   "file_extension": ".py",
   "mimetype": "text/x-python",
   "name": "python",
   "nbconvert_exporter": "python",
   "pygments_lexer": "ipython3",
   "version": "3.12.3"
  }
 },
 "nbformat": 4,
 "nbformat_minor": 5
}
