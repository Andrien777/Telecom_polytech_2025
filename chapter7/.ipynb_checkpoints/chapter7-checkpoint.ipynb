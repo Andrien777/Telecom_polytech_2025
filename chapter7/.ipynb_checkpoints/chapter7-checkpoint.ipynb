{
 "cells": [
  {
   "cell_type": "code",
   "execution_count": 1,
   "id": "942c7f1e-0597-4c5b-a9ca-3cff189a8de3",
   "metadata": {},
   "outputs": [],
   "source": [
    "import numpy as np"
   ]
  },
  {
   "cell_type": "markdown",
   "id": "6a63cfaf-6c34-4f13-95ca-0796b101ec99",
   "metadata": {},
   "source": [
    "# Упражнения к главе 7\n",
    "## Упражнение 7.2\n",
    "Требуется написать рекурсивную функцию БПФ, которая использует лемму Дэниелсона–Ланцоша для разделения задачи на подзадачи, обрабатывает базовые случаи и объединяет результаты."
   ]
  },
  {
   "cell_type": "code",
   "execution_count": 9,
   "id": "e0f1878c-f048-4ce3-96f0-ab6a137c4e16",
   "metadata": {},
   "outputs": [
    {
     "name": "stdout",
     "output_type": "stream",
     "text": [
      "(6.206816053033821e-26+4.7710307547766794e-27j)\n"
     ]
    }
   ],
   "source": [
    "def fft(ys):\n",
    "    if len(ys) == 1:\n",
    "        return ys\n",
    "    even = ys[::2]\n",
    "    odd = ys[1::2]\n",
    "    ns = np.arange(len(ys))\n",
    "    offset = np.exp(-1j * 2 * np.pi * ns / len(ys))\n",
    "    return np.tile(fft(even), 2) + offset * np.tile(fft(odd), 2)\n",
    "\n",
    "test_ys = np.random.rand(128) * 30 - 15\n",
    "module_fft = np.fft.fft(test_ys)\n",
    "my_fft = fft(test_ys)\n",
    "print(np.sum((module_fft - my_fft) ** 2))"
   ]
  },
  {
   "cell_type": "markdown",
   "id": "e86eceb0-2ad5-4af7-ab13-679398cfcd61",
   "metadata": {},
   "source": [
    "Тест показал, что разработанная реализация БПФ дает результат очень близкий к результату эталонного БПФ из модуля Numpy."
   ]
  }
 ],
 "metadata": {
  "kernelspec": {
   "display_name": "Python 3 (ipykernel)",
   "language": "python",
   "name": "python3"
  },
  "language_info": {
   "codemirror_mode": {
    "name": "ipython",
    "version": 3
   },
   "file_extension": ".py",
   "mimetype": "text/x-python",
   "name": "python",
   "nbconvert_exporter": "python",
   "pygments_lexer": "ipython3",
   "version": "3.12.3"
  }
 },
 "nbformat": 4,
 "nbformat_minor": 5
}
